{
 "cells": [
  {
   "cell_type": "code",
   "execution_count": null,
   "metadata": {},
   "outputs": [],
   "source": [
    "# 该文件用于删除class-person文件夹下冗余的图像\n",
    "import os\n",
    "import shutil\n",
    "from collections import defaultdict\n",
    "\n",
    "# 定义目标目录\n",
    "target_dir = \"/home/humw/Codes/My-Anti-DreamBooth/data/class-person\"\n",
    "\n",
    "# 获取目标目录下的所有文件\n",
    "files = os.listdir(target_dir)\n",
    "\n",
    "# 使用defaultdict来分组以数字n开头的文件\n",
    "file_groups = defaultdict(list)\n",
    "\n",
    "# 遍历文件并分组\n",
    "for file in files:\n",
    "    if file.endswith(\".jpg\") and \"-\" in file:\n",
    "        # 拆分文件名，获取数字n部分\n",
    "        num_part = file.split(\"-\")[0]\n",
    "        file_groups[num_part].append(file)\n",
    "\n",
    "# 遍历每个分组，只保留一个文件\n",
    "for num, file_list in file_groups.items():\n",
    "    if len(file_list) > 1:\n",
    "        # 选择保留第一个文件，并删除其他文件\n",
    "        file_to_keep = file_list[0]\n",
    "        for file in file_list[1:]:\n",
    "            file_path = os.path.join(target_dir, file)\n",
    "            os.remove(file_path)\n",
    "            print(f\"Deleted: {file_path}\")\n",
    "\n",
    "print(\"Process completed.\")"
   ]
  },
  {
   "cell_type": "code",
   "execution_count": null,
   "metadata": {},
   "outputs": [],
   "source": [
    "import os\n",
    "\n",
    "print(len(os.listdir(\"/home/humw/Codes/T2VSafetyBench/My-Anti-DreamBooth/data/class-person\")))"
   ]
  },
  {
   "cell_type": "code",
   "execution_count": null,
   "metadata": {},
   "outputs": [],
   "source": [
    "# 检测图像阈值，MetaCloak模式\n",
    "from torchvision import transforms\n",
    "import torch\n",
    "from pathlib import Path\n",
    "from PIL import Image\n",
    "\n",
    "def load_data(data_dir, size=512, center_crop=True) -> torch.Tensor:\n",
    "    image_transforms = transforms.Compose(\n",
    "        [\n",
    "            transforms.Resize(size, interpolation=transforms.InterpolationMode.BILINEAR),\n",
    "            transforms.CenterCrop(size) if center_crop else transforms.RandomCrop(size),\n",
    "            transforms.ToTensor(),\n",
    "            # transforms.Normalize([0.5], [0.5]),\n",
    "        ]\n",
    "    )\n",
    "\n",
    "    images = [image_transforms(Image.open(i).convert(\"RGB\")) for i in sorted(list(Path(data_dir).iterdir()))]\n",
    "    images = torch.stack(images)\n",
    "    return images\n",
    "\n",
    "weight_type = torch.bfloat16\n",
    "clean_leaf_id_pixel_values = load_data('/home/humw/Datasets/VGGFace2/n000050/set_B').to(dtype=weight_type)\n",
    "adv_leaf_id_pixel_values = load_data('/home/humw/Codes/My-Anti-DreamBooth/outputs/adversarial_images/test_ipadapter_sd1-5/n000050').to(dtype=weight_type)\n",
    "et = adv_leaf_id_pixel_values - clean_leaf_id_pixel_values\n",
    "\n",
    "et = abs(et)\n",
    "print(\"11/255:{}\".format(11/255))\n",
    "print(\"et min:{}\".format(et.min()))\n",
    "print(\"et max:{}\".format(et.max()))\n",
    "print(\"et mean:{}\".format(et.mean()))\n",
    "et = et.reshape(-1)\n",
    "a = et\n",
    "cnt1 = 0\n",
    "cnt2 = 0\n",
    "for t in a:\n",
    "    if t > 11/255:\n",
    "        cnt1 = cnt1 + 1\n",
    "    if t > 22/255:\n",
    "        cnt2 = cnt2 + 1\n",
    "print(\"proportion of pixels larger than 11/255:{}\".format(cnt1/et.shape[0]))\n",
    "print(\"proportion of pixels larger than 22/255:{}\".format(cnt2/et.shape[0]))"
   ]
  },
  {
   "cell_type": "code",
   "execution_count": null,
   "metadata": {},
   "outputs": [],
   "source": [
    "16/255"
   ]
  },
  {
   "cell_type": "code",
   "execution_count": null,
   "metadata": {},
   "outputs": [],
   "source": [
    "# 打印所有的person ID\n",
    "import os\n",
    "\n",
    "path = \"/home/humw/Datasets/VGGFace2\"\n",
    "\n",
    "print(sorted(os.listdir(path)))"
   ]
  },
  {
   "cell_type": "code",
   "execution_count": null,
   "metadata": {},
   "outputs": [],
   "source": []
  }
 ],
 "metadata": {
  "kernelspec": {
   "display_name": "anti-dreambooth",
   "language": "python",
   "name": "python3"
  },
  "language_info": {
   "codemirror_mode": {
    "name": "ipython",
    "version": 3
   },
   "file_extension": ".py",
   "mimetype": "text/x-python",
   "name": "python",
   "nbconvert_exporter": "python",
   "pygments_lexer": "ipython3",
   "version": "3.9.12"
  }
 },
 "nbformat": 4,
 "nbformat_minor": 2
}
